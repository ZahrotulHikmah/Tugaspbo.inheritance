{
  "nbformat": 4,
  "nbformat_minor": 0,
  "metadata": {
    "colab": {
      "provenance": [],
      "include_colab_link": true
    },
    "kernelspec": {
      "name": "python3",
      "display_name": "Python 3"
    },
    "language_info": {
      "name": "python"
    }
  },
  "cells": [
    {
      "cell_type": "markdown",
      "metadata": {
        "id": "view-in-github",
        "colab_type": "text"
      },
      "source": [
        "<a href=\"https://colab.research.google.com/github/ZahrotulHikmah/Tugaspbo.inheritance/blob/main/TugasInheritance2_Zahro_XI_RPL_2.ipynb\" target=\"_parent\"><img src=\"https://colab.research.google.com/assets/colab-badge.svg\" alt=\"Open In Colab\"/></a>"
      ]
    },
    {
      "cell_type": "markdown",
      "source": [
        "Buatlah tiga kelas: User, Siswa, dan Guru. Class Siswa dan Guru mewarisi atribute dan fungsi dari class User. Keduanya menambahkan atribut dan fungsi tambahan sesuai dengan peran masing-masing.\n",
        "\n",
        "Output dari program ini akan menampilkan informasi seorang siswa dan seorang guru dengan menggunakan fungsi tampil_info() yang diwarisi dari class User. Untuk info user yang ditampilkan silakan ditentukan sendiri minimal ada nama dan umur.\n",
        "\n",
        "Untuk informasi khusus dari siswa dan guru silakan tentukan sendiri, minimal satu atribute tambahan yang membedakan antara siswa dan guru."
      ],
      "metadata": {
        "id": "oWYx5WDsIouf"
      }
    },
    {
      "cell_type": "code",
      "execution_count": null,
      "metadata": {
        "id": "VQWWW4rpH9ve"
      },
      "outputs": [],
      "source": [
        "#Class User\n",
        "class User:\n",
        "  def __init__ (self, nama, umur):\n",
        "     self.nama = nama\n",
        "     self.umur = umur\n",
        "\n",
        "  def tampil_info(self):\n",
        "     pass"
      ]
    },
    {
      "cell_type": "code",
      "source": [
        "#Class Siswa\n",
        "class Siswa (User):\n",
        "  def __init__ (self, nama, umur, jurusan):\n",
        "    super().__init__(nama, umur)\n",
        "    self.jurusan = jurusan\n",
        "\n",
        "  def tampil_info(self):\n",
        "    return self.jurusan"
      ],
      "metadata": {
        "id": "i_iBjMciJJc5"
      },
      "execution_count": null,
      "outputs": []
    },
    {
      "cell_type": "code",
      "source": [
        "#Class Guru\n",
        "class Guru (User):\n",
        "  def __init__ (self, nama, umur, alamat):\n",
        "    super().__init__(nama, umur)\n",
        "    self.alamat= alamat\n",
        "\n",
        "  def tampil_info(self):\n",
        "    return self.alamat"
      ],
      "metadata": {
        "id": "lrnlKm6sJMjp"
      },
      "execution_count": null,
      "outputs": []
    },
    {
      "cell_type": "code",
      "source": [
        "#Program utama untuk menampilkan info\n",
        "user1 = Siswa(\"Zahro\", \"17\", \"Rekayasa Perangkat Lunak\")\n",
        "user2 = Guru(\"Bu Nurin\", \"35\", \"JL.Soekarno No.45\")\n",
        "\n",
        "print(f\"Nama:{user1.nama}  Umur:{user1.umur}  Jurusan:{user1.jurusan}\")\n",
        "print(f\"Nama:{user2.nama}  Umur:{user2.umur}  Alamat:{user2.alamat}\")"
      ],
      "metadata": {
        "id": "VDGIma_2JOVx",
        "colab": {
          "base_uri": "https://localhost:8080/"
        },
        "outputId": "c93238b8-ffe3-495c-d451-fdac484401a3"
      },
      "execution_count": null,
      "outputs": [
        {
          "output_type": "stream",
          "name": "stdout",
          "text": [
            "Nama:Zahro  Umur:17  Jurusan:Rekayasa Perangkat Lunak\n",
            "Nama:Bu Nurin  Umur:35  Alamat:JL.Soekarno No.45\n"
          ]
        }
      ]
    }
  ]
}